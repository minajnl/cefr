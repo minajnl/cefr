{
 "cells": [
  {
   "cell_type": "code",
   "execution_count": 2,
   "metadata": {},
   "outputs": [],
   "source": [
    "import json"
   ]
  },
  {
   "cell_type": "code",
   "execution_count": 3,
   "metadata": {},
   "outputs": [],
   "source": [
    "file = \"./cefr.json\""
   ]
  },
  {
   "cell_type": "code",
   "execution_count": 18,
   "metadata": {},
   "outputs": [],
   "source": [
    "with open(file, 'r') as j:\n",
    "    data = json.load(j)"
   ]
  },
  {
   "cell_type": "code",
   "execution_count": 19,
   "metadata": {},
   "outputs": [],
   "source": [
    "data = json.loads(data)"
   ]
  },
  {
   "cell_type": "code",
   "execution_count": 20,
   "metadata": {},
   "outputs": [
    {
     "name": "stdout",
     "output_type": "stream",
     "text": [
      "<class 'dict'>\n"
     ]
    }
   ],
   "source": [
    "print(type(data))"
   ]
  },
  {
   "cell_type": "code",
   "execution_count": 57,
   "metadata": {},
   "outputs": [
    {
     "ename": "TypeError",
     "evalue": "unhashable type: 'list'",
     "output_type": "error",
     "traceback": [
      "\u001b[0;31m---------------------------------------------------------------------------\u001b[0m",
      "\u001b[0;31mTypeError\u001b[0m                                 Traceback (most recent call last)",
      "Cell \u001b[0;32mIn[57], line 15\u001b[0m\n\u001b[1;32m     11\u001b[0m             example \u001b[38;5;241m=\u001b[39m r[\u001b[38;5;124m\"\u001b[39m\u001b[38;5;124mexample_0\u001b[39m\u001b[38;5;124m\"\u001b[39m][\u001b[38;5;241m-\u001b[39m\u001b[38;5;241m2\u001b[39m:]\n\u001b[1;32m     12\u001b[0m             cefr_level \u001b[38;5;241m=\u001b[39m r[\u001b[38;5;124m\"\u001b[39m\u001b[38;5;124mexample_0\u001b[39m\u001b[38;5;124m\"\u001b[39m][\u001b[38;5;241m1\u001b[39m] \n\u001b[1;32m     14\u001b[0m             vocab\u001b[38;5;241m.\u001b[39mappend(\n\u001b[0;32m---> 15\u001b[0m                 {\n\u001b[1;32m     16\u001b[0m                     word: word,\n\u001b[1;32m     17\u001b[0m                     cefr_level: cefr_level,\n\u001b[1;32m     18\u001b[0m                     pos: pos,\n\u001b[1;32m     19\u001b[0m                     posgram: posgram,\n\u001b[1;32m     20\u001b[0m                     written: written,\n\u001b[1;32m     21\u001b[0m                     example: example,\n\u001b[1;32m     22\u001b[0m                 }\n\u001b[1;32m     23\u001b[0m             )\n\u001b[1;32m     25\u001b[0m \u001b[38;5;66;03m# word, level, definition, pos, posgram, written, examples\u001b[39;00m\n",
      "\u001b[0;31mTypeError\u001b[0m: unhashable type: 'list'"
     ]
    }
   ],
   "source": [
    "vocab = []\n",
    "\n",
    "for d in data['data']:\n",
    "    record = d[0]['table'][-1]\n",
    "    for r in record:\n",
    "        if \"example_0\" in r.keys():\n",
    "            word = r[\"headword\"]\n",
    "            pos = r[\"pos\"]\n",
    "            posgram = r[\"posgram\"]\n",
    "            written = r[\"written\"]\n",
    "            example = r[\"example_0\"][-2:]\n",
    "            cefr_level = r[\"example_0\"][1] \n",
    "            \n",
    "            vocab.append(\n",
    "                {\n",
    "                    'word': word,\n",
    "                    'cefr_level': cefr_level,\n",
    "                    'pos': pos,\n",
    "                    'posgram': posgram,\n",
    "                    'written': written,\n",
    "                    'example': example,\n",
    "                }\n",
    "            )\n",
    "        \n",
    "# word, level, definition, pos, posgram, written, examples\n",
    "        "
   ]
  },
  {
   "cell_type": "code",
   "execution_count": null,
   "metadata": {},
   "outputs": [],
   "source": []
  }
 ],
 "metadata": {
  "kernelspec": {
   "display_name": "Python 3",
   "language": "python",
   "name": "python3"
  },
  "language_info": {
   "codemirror_mode": {
    "name": "ipython",
    "version": 3
   },
   "file_extension": ".py",
   "mimetype": "text/x-python",
   "name": "python",
   "nbconvert_exporter": "python",
   "pygments_lexer": "ipython3",
   "version": "3.9.18"
  }
 },
 "nbformat": 4,
 "nbformat_minor": 2
}
